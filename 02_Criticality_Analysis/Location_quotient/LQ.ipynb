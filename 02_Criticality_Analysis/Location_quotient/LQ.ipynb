{
 "cells": [
  {
   "cell_type": "code",
   "execution_count": null,
   "id": "02c7419b-4f14-42d8-a8ef-5868410c5df6",
   "metadata": {},
   "outputs": [],
   "source": [
    "import pandas as pd\n",
    "import seaborn as sns\n",
    "import matplotlib.pyplot as plt"
   ]
  },
  {
   "cell_type": "code",
   "execution_count": 2,
   "id": "60811696-38e8-490d-bc56-a9cdfd131c32",
   "metadata": {},
   "outputs": [],
   "source": [
    "# Loading xbase\n",
    "\n",
    "xbase = pd.read_excel('Xbase.xlsx', index_col = [0], header = [0])\n"
   ]
  },
  {
   "cell_type": "code",
   "execution_count": 3,
   "id": "87f28b50-41d8-42d2-ae8d-7dbb25fabd4f",
   "metadata": {},
   "outputs": [],
   "source": [
    "sectors = list(xbase.index.unique())\n",
    "regions = list(xbase.columns.unique())"
   ]
  },
  {
   "cell_type": "code",
   "execution_count": 4,
   "id": "f5feed4d-bcb5-4994-bcb3-f4368be69c2a",
   "metadata": {},
   "outputs": [],
   "source": [
    "loc_quotient = pd.DataFrame(index = sectors, columns = regions)"
   ]
  },
  {
   "cell_type": "code",
   "execution_count": 12,
   "id": "978df67f-73d6-4800-9aaf-bca22e34d4c2",
   "metadata": {},
   "outputs": [],
   "source": [
    "for i in range(len(regions)):\n",
    "    for j in range(len(sectors)):\n",
    "        r  = regions[i]\n",
    "        s = sectors[j]\n",
    "        a = xbase.loc[s,r]\n",
    "        ar = xbase.loc[:,r].sum()\n",
    "        b = xbase.loc[s,:].sum()\n",
    "        br = xbase.sum().sum()\n",
    "        lq = (a/ar) / (b/br)\n",
    "        loc_quotient.loc[s,r] = lq"
   ]
  },
  {
   "cell_type": "code",
   "execution_count": 14,
   "id": "64aefa4e-0f6a-42d7-ae61-0b4251628c6f",
   "metadata": {},
   "outputs": [],
   "source": [
    "loc_quotient.to_excel('loc_quotient.xlsx')"
   ]
  },
  {
   "cell_type": "code",
   "execution_count": 15,
   "id": "70fba9d0-eef5-4c10-8eec-8384284b912e",
   "metadata": {},
   "outputs": [],
   "source": [
    "xbase_critical = pd.DataFrame(index = sectors, columns = regions)"
   ]
  },
  {
   "cell_type": "code",
   "execution_count": 16,
   "id": "c523b996-b2bb-4349-a681-f36a6129d138",
   "metadata": {},
   "outputs": [],
   "source": [
    "for i in range(len(regions)):\n",
    "    for j in range(len(sectors)):\n",
    "        r  = regions[i]\n",
    "        s = sectors[j]\n",
    "        a = xbase.loc[s,r]\n",
    "        br = xbase.sum().sum()\n",
    "        lq = (a/br)\n",
    "        xbase_critical.loc[s,r] = lq"
   ]
  },
  {
   "cell_type": "code",
   "execution_count": 17,
   "id": "35955004-6809-4478-bade-68d82f695c0d",
   "metadata": {},
   "outputs": [],
   "source": [
    "xbase_critical.to_excel('xbase_critical.xlsx')"
   ]
  },
  {
   "cell_type": "code",
   "execution_count": null,
   "id": "8cb1b5ec-4657-4392-b636-7809c1f53499",
   "metadata": {},
   "outputs": [],
   "source": []
  }
 ],
 "metadata": {
  "kernelspec": {
   "display_name": "Python 3 (ipykernel)",
   "language": "python",
   "name": "python3"
  },
  "language_info": {
   "codemirror_mode": {
    "name": "ipython",
    "version": 3
   },
   "file_extension": ".py",
   "mimetype": "text/x-python",
   "name": "python",
   "nbconvert_exporter": "python",
   "pygments_lexer": "ipython3",
   "version": "3.12.3"
  }
 },
 "nbformat": 4,
 "nbformat_minor": 5
}
